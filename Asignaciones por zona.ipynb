{
 "cells": [
  {
   "cell_type": "markdown",
   "id": "2dcf87e0",
   "metadata": {},
   "source": [
    "# ¿Como realizar las asignaciones para cada zona?"
   ]
  },
  {
   "cell_type": "markdown",
   "id": "9b232d62",
   "metadata": {},
   "source": [
    "Para realizar las asignaciones por cada zona, uno de los metodos es separar las zonas por csv; es decir, que cada csv contenga toda la información necesaria de una zona especifica, asi al hacer la asignaciones tendremos el control de usuario y el control de zona más al detalle.\n",
    "\n",
    "Quizas sea un método arcaico, pero es efectivo\n",
    "\n",
    "\n",
    "Contacto: jcordovafredes@outlook.com"
   ]
  },
  {
   "cell_type": "code",
   "execution_count": 1,
   "id": "620ff37e",
   "metadata": {},
   "outputs": [],
   "source": [
    "import datetime\n",
    "import json\n",
    "import arcgis\n",
    "from arcgis.gis import GIS\n",
    "from arcgis.geometry import Geometry\n",
    "from arcgis.apps import workforce"
   ]
  },
  {
   "cell_type": "code",
   "execution_count": 2,
   "id": "5e84460b",
   "metadata": {},
   "outputs": [
    {
     "name": "stdout",
     "output_type": "stream",
     "text": [
      "Enter password: ········\n"
     ]
    }
   ],
   "source": [
    "gis = GIS(\"https://fau-uchile.maps.arcgis.com/\", \"jicoardova_fau\")"
   ]
  },
  {
   "cell_type": "code",
   "execution_count": 3,
   "id": "ae7206ce",
   "metadata": {},
   "outputs": [
    {
     "data": {
      "text/plain": [
       "<Project Asignaciones por zona>"
      ]
     },
     "execution_count": 3,
     "metadata": {},
     "output_type": "execute_result"
    }
   ],
   "source": [
    "item = gis.content.get(\"05d150615afb4351bcaa129e43502579\")\n",
    "project = workforce.Project(item)\n",
    "project"
   ]
  },
  {
   "cell_type": "code",
   "execution_count": 4,
   "id": "f276c1fe",
   "metadata": {},
   "outputs": [
    {
     "data": {
      "text/html": [
       "<div class=\"9item_container\" style=\"height: auto; overflow: hidden; border: 1px solid #cfcfcf; border-radius: 2px; background: #f6fafa; line-height: 1.21429em; padding: 10px;\">\n",
       "                    <div class=\"item_left\" style=\"width: 210px; float: left;\">\n",
       "                       <a href='https://fau-uchile.maps.arcgis.com/home/group.html?id=5573ec020617466288bd149990d1ace0' target='_blank'>\n",
       "                        <img src='https://fau-uchile.maps.arcgis.com/home/images/group-no-image.png' class=\"itemThumbnail\">\n",
       "                       </a>\n",
       "                    </div>\n",
       "\n",
       "                    <div class=\"item_right\" style=\"float: none; width: auto; overflow: hidden;\">\n",
       "                        <a href='https://fau-uchile.maps.arcgis.com/home/group.html?id=5573ec020617466288bd149990d1ace0' target='_blank'><b>Trabajadores</b>\n",
       "                        </a>\n",
       "                        <br/>\n",
       "                        <br/><b>Summary</b>: Grupo de Trabajadores\n",
       "                        <br/><b>Description</b>: Control de prueba para controlar y organizar las cuadrillas de revisar para así optimizar el flujo de trabajo\n",
       "                        <br/><b>Owner</b>: jicoardova_fau\n",
       "                        <br/><b>Created</b>: August 03, 2021\n",
       "\n",
       "                    </div>\n",
       "                </div>\n",
       "                "
      ],
      "text/plain": [
       "<Group title:\"Trabajadores\" owner:jicoardova_fau>"
      ]
     },
     "execution_count": 4,
     "metadata": {},
     "output_type": "execute_result"
    }
   ],
   "source": [
    "trabajadores = gis.groups.get(\"5573ec020617466288bd149990d1ace0\")\n",
    "trabajadores"
   ]
  },
  {
   "cell_type": "code",
   "execution_count": 5,
   "id": "7d167e32",
   "metadata": {},
   "outputs": [],
   "source": [
    "for username in trabajadores.get_members()[\"users\"]:\n",
    "    user = gis.users.get(username)\n",
    "    project.workers.add(\n",
    "        user_id=username,\n",
    "        name=user.fullName,\n",
    "        status=\"not_working\",\n",
    "        title=\"Trabajador de campo\"\n",
    "    )"
   ]
  },
  {
   "cell_type": "code",
   "execution_count": 6,
   "id": "c2f64e5c",
   "metadata": {},
   "outputs": [
    {
     "data": {
      "text/html": [
       "<div class=\"9item_container\" style=\"height: auto; overflow: hidden; border: 1px solid #cfcfcf; border-radius: 2px; background: #f6fafa; line-height: 1.21429em; padding: 10px;\">\n",
       "                    <div class=\"item_left\" style=\"width: 210px; float: left;\">\n",
       "                       <a href='https://fau-uchile.maps.arcgis.com/home/group.html?id=be5f84c01c2d404ca78ec97ad5c17ee0' target='_blank'>\n",
       "                        <img src='data:image/png;base64,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' ' class=\"itemThumbnail\">\n",
       "                       </a>\n",
       "                    </div>\n",
       "\n",
       "                    <div class=\"item_right\" style=\"float: none; width: auto; overflow: hidden;\">\n",
       "                        <a href='https://fau-uchile.maps.arcgis.com/home/group.html?id=be5f84c01c2d404ca78ec97ad5c17ee0' target='_blank'><b>Supervisores</b>\n",
       "                        </a>\n",
       "                        <br/>\n",
       "                        <br/><b>Summary</b>: Grupo de Supervisores\n",
       "                        <br/><b>Description</b>: La función de los supervisores es poder controlar la acción de los trabajadores con la finalidad de que hagan bien su trabajo\n",
       "                        <br/><b>Owner</b>: jicoardova_fau\n",
       "                        <br/><b>Created</b>: August 03, 2021\n",
       "\n",
       "                    </div>\n",
       "                </div>\n",
       "                "
      ],
      "text/plain": [
       "<Group title:\"Supervisores\" owner:jicoardova_fau>"
      ]
     },
     "execution_count": 6,
     "metadata": {},
     "output_type": "execute_result"
    }
   ],
   "source": [
    "supervisores_grifos = gis.groups.get(\"be5f84c01c2d404ca78ec97ad5c17ee0\")\n",
    "supervisores_grifos"
   ]
  },
  {
   "cell_type": "code",
   "execution_count": 7,
   "id": "33b05509",
   "metadata": {},
   "outputs": [],
   "source": [
    "for username in supervisores_grifos.get_members()[\"users\"]:\n",
    "    if username != \"jicoardova_fau\":\n",
    "        user = gis.users.get(username)\n",
    "        project.dispatchers.add(\n",
    "            user_id=username,\n",
    "            name=user.fullName\n",
    "        )"
   ]
  },
  {
   "cell_type": "code",
   "execution_count": 8,
   "id": "efbcec33",
   "metadata": {},
   "outputs": [
    {
     "data": {
      "application/vnd.jupyter.widget-view+json": {
       "model_id": "59af341bbe034d16bb990f34b0113a67",
       "version_major": 2,
       "version_minor": 0
      },
      "text/plain": [
       "MapView(hide_mode_switch=True, layout=Layout(height='400px', width='100%'))"
      ]
     },
     "metadata": {},
     "output_type": "display_data"
    },
    {
     "data": {
      "text/html": [
       "<div class=\"map-static-img-preview-91334cc2-b1ce-4547-849b-2cb202256b11\"><img src=\"\"></img></div>"
      ],
      "text/plain": [
       "<IPython.core.display.HTML object>"
      ]
     },
     "metadata": {},
     "output_type": "display_data"
    },
    {
     "data": {
      "text/html": [
       "<div class=\"map-html-embed-preview-91334cc2-b1ce-4547-849b-2cb202256b11\"></div>"
      ],
      "text/plain": [
       "<IPython.core.display.HTML object>"
      ]
     },
     "metadata": {},
     "output_type": "display_data"
    }
   ],
   "source": [
    "from arcgis.apps import build_explorer_url\n",
    "from arcgis.mapping import WebMap\n",
    "\n",
    "webmap = WebMap(gis.content.get(\"cbcbc17fdbff4e3697300d585366b817\"))\n",
    "webmap.item.share(groups=[project.group])\n",
    "webmap"
   ]
  },
  {
   "cell_type": "code",
   "execution_count": 9,
   "id": "3e62766e",
   "metadata": {},
   "outputs": [],
   "source": [
    "url = build_explorer_url(\n",
    "    webmap=webmap,\n",
    "    center=\"${assignment.latitude},${assignment.longitude}\",\n",
    "    url_type=\"App\",\n",
    "    scale=9000\n",
    ")"
   ]
  },
  {
   "cell_type": "code",
   "execution_count": 10,
   "id": "d42c9f9f",
   "metadata": {},
   "outputs": [
    {
     "data": {
      "text/plain": [
       "<Integration default-explorer>"
      ]
     },
     "execution_count": 10,
     "metadata": {},
     "output_type": "execute_result"
    }
   ],
   "source": [
    "project.integrations.add(\"default-explorer\", \"Explorer At Assignment\", url)"
   ]
  },
  {
   "cell_type": "code",
   "execution_count": 22,
   "id": "7b09ded5",
   "metadata": {},
   "outputs": [],
   "source": [
    "Daniela = project.workers.get(user_id=\"INTERGEO_04\")\n",
    "Felipe = project.workers.get(user_id=\"INTERGEO_06\")\n",
    "Andres = project.workers.get(user_id=\"andraes.smgo_fau\")"
   ]
  },
  {
   "cell_type": "code",
   "execution_count": 17,
   "id": "dc3d6144",
   "metadata": {},
   "outputs": [],
   "source": [
    "assignment_types = project.assignment_types.add(name=\"Inspección de Grifo\")"
   ]
  },
  {
   "cell_type": "code",
   "execution_count": 11,
   "id": "250834cc",
   "metadata": {},
   "outputs": [],
   "source": [
    "import pandas as pd"
   ]
  },
  {
   "cell_type": "markdown",
   "id": "4f58dc40",
   "metadata": {},
   "source": [
    "# Zona 1"
   ]
  },
  {
   "cell_type": "markdown",
   "id": "9830cc1c",
   "metadata": {},
   "source": [
    "es importante cambiar:\n",
    "1.El nombre de csv para cada zona\n",
    "2.Tanto el assignments como el df\n",
    "3.El nombre del trabajador (\"worker\") para cada zona"
   ]
  },
  {
   "cell_type": "code",
   "execution_count": 38,
   "id": "76a86678",
   "metadata": {},
   "outputs": [
    {
     "data": {
      "text/html": [
       "<div>\n",
       "<style scoped>\n",
       "    .dataframe tbody tr th:only-of-type {\n",
       "        vertical-align: middle;\n",
       "    }\n",
       "\n",
       "    .dataframe tbody tr th {\n",
       "        vertical-align: top;\n",
       "    }\n",
       "\n",
       "    .dataframe thead th {\n",
       "        text-align: right;\n",
       "    }\n",
       "</style>\n",
       "<table border=\"1\" class=\"dataframe\">\n",
       "  <thead>\n",
       "    <tr style=\"text-align: right;\">\n",
       "      <th></th>\n",
       "      <th>1</th>\n",
       "      <th>Location</th>\n",
       "      <th>Description</th>\n",
       "      <th>Assigned</th>\n",
       "      <th>Priority</th>\n",
       "      <th>Work Order Id</th>\n",
       "      <th>Due Date</th>\n",
       "    </tr>\n",
       "  </thead>\n",
       "  <tbody>\n",
       "    <tr>\n",
       "      <th>0</th>\n",
       "      <td>3</td>\n",
       "      <td>Avenida Holanda 34, La Ligua</td>\n",
       "      <td>Zona 1: Colo Colo</td>\n",
       "      <td>INTERGEO_04</td>\n",
       "      <td>medium</td>\n",
       "      <td>2</td>\n",
       "      <td>31/8/2021 21:43</td>\n",
       "    </tr>\n",
       "    <tr>\n",
       "      <th>1</th>\n",
       "      <td>4</td>\n",
       "      <td>Laulie 098, La Ligua</td>\n",
       "      <td>Zona 1: Colo Colo</td>\n",
       "      <td>INTERGEO_04</td>\n",
       "      <td>low</td>\n",
       "      <td>3</td>\n",
       "      <td>1/9/2021 19:43</td>\n",
       "    </tr>\n",
       "  </tbody>\n",
       "</table>\n",
       "</div>"
      ],
      "text/plain": [
       "   1                      Location        Description     Assigned Priority  \\\n",
       "0  3  Avenida Holanda 34, La Ligua  Zona 1: Colo Colo  INTERGEO_04   medium   \n",
       "1  4          Laulie 098, La Ligua  Zona 1: Colo Colo  INTERGEO_04      low   \n",
       "\n",
       "   Work Order Id         Due Date  \n",
       "0              2  31/8/2021 21:43  \n",
       "1              3   1/9/2021 19:43  "
      ]
     },
     "execution_count": 38,
     "metadata": {},
     "output_type": "execute_result"
    }
   ],
   "source": [
    "assignments = f'C:/Users/jcord/OneDrive/Escritorio/XYGO/Scripts/asignaciones_zona_1.csv'\n",
    "df = pd.read_csv(assignments, sep=\";\")\n",
    "df"
   ]
  },
  {
   "cell_type": "code",
   "execution_count": 18,
   "id": "5cd934fd",
   "metadata": {},
   "outputs": [],
   "source": [
    "from arcgis.geocoding import geocode\n",
    "from datetime import datetime"
   ]
  },
  {
   "cell_type": "code",
   "execution_count": 39,
   "id": "0bda09ad",
   "metadata": {},
   "outputs": [],
   "source": [
    "assignments = []\n",
    "for index, row in df.iterrows():\n",
    "    geometry = geocode(f\"{row['Location']}\", out_sr=3857)[0][\"location\"]\n",
    "    assignments.append(\n",
    "        workforce.Assignment(\n",
    "            project,\n",
    "            geometry=geometry,\n",
    "            location=row[\"Location\"],\n",
    "            description=row[\"Description\"],\n",
    "            priority=row[\"Priority\"],\n",
    "            work_order_id=row[\"Work Order Id\"],\n",
    "            assignment_type=\"Inspección de Grifo\",\n",
    "            status=\"assigned\",\n",
    "            worker= Daniela,\n",
    "            due_date=pd.to_datetime(row[\"Due Date\"])\n",
    "        )\n",
    "    )"
   ]
  },
  {
   "cell_type": "code",
   "execution_count": 40,
   "id": "4cdb38fd",
   "metadata": {},
   "outputs": [
    {
     "data": {
      "text/plain": [
       "[<Assignment 11>, <Assignment 12>]"
      ]
     },
     "execution_count": 40,
     "metadata": {},
     "output_type": "execute_result"
    }
   ],
   "source": [
    "#Agregar asignaciones con el metodo batch_add\n",
    "project.assignments.batch_add(assignments)"
   ]
  },
  {
   "cell_type": "markdown",
   "id": "26d43d1a",
   "metadata": {},
   "source": [
    "# Zona 2"
   ]
  },
  {
   "cell_type": "code",
   "execution_count": 41,
   "id": "e167662f",
   "metadata": {},
   "outputs": [
    {
     "data": {
      "text/html": [
       "<div>\n",
       "<style scoped>\n",
       "    .dataframe tbody tr th:only-of-type {\n",
       "        vertical-align: middle;\n",
       "    }\n",
       "\n",
       "    .dataframe tbody tr th {\n",
       "        vertical-align: top;\n",
       "    }\n",
       "\n",
       "    .dataframe thead th {\n",
       "        text-align: right;\n",
       "    }\n",
       "</style>\n",
       "<table border=\"1\" class=\"dataframe\">\n",
       "  <thead>\n",
       "    <tr style=\"text-align: right;\">\n",
       "      <th></th>\n",
       "      <th>1</th>\n",
       "      <th>Location</th>\n",
       "      <th>Description</th>\n",
       "      <th>Assigned</th>\n",
       "      <th>Priority</th>\n",
       "      <th>Work Order Id</th>\n",
       "      <th>Due Date</th>\n",
       "    </tr>\n",
       "  </thead>\n",
       "  <tbody>\n",
       "    <tr>\n",
       "      <th>0</th>\n",
       "      <td>5</td>\n",
       "      <td>Diego Portales 699, La Ligua</td>\n",
       "      <td>Zona 2: Naval</td>\n",
       "      <td>INTERGEO_06</td>\n",
       "      <td>critical</td>\n",
       "      <td>4</td>\n",
       "      <td>2/9/2021 10:43</td>\n",
       "    </tr>\n",
       "    <tr>\n",
       "      <th>1</th>\n",
       "      <td>6</td>\n",
       "      <td>Luis Cruz Martinez 690, La Ligua</td>\n",
       "      <td>Zona 2: Naval</td>\n",
       "      <td>INTERGEO_06</td>\n",
       "      <td>high</td>\n",
       "      <td>5</td>\n",
       "      <td>3/9/2021 18:43</td>\n",
       "    </tr>\n",
       "  </tbody>\n",
       "</table>\n",
       "</div>"
      ],
      "text/plain": [
       "   1                          Location    Description     Assigned  Priority  \\\n",
       "0  5      Diego Portales 699, La Ligua  Zona 2: Naval  INTERGEO_06  critical   \n",
       "1  6  Luis Cruz Martinez 690, La Ligua  Zona 2: Naval  INTERGEO_06      high   \n",
       "\n",
       "   Work Order Id        Due Date  \n",
       "0              4  2/9/2021 10:43  \n",
       "1              5  3/9/2021 18:43  "
      ]
     },
     "execution_count": 41,
     "metadata": {},
     "output_type": "execute_result"
    }
   ],
   "source": [
    "assignments_1 = f'C:/Users/jcord/OneDrive/Escritorio/XYGO/Scripts/asignaciones_zona_2.csv'\n",
    "df_1 = pd.read_csv(assignments_1, sep=\";\")\n",
    "df_1"
   ]
  },
  {
   "cell_type": "code",
   "execution_count": 42,
   "id": "82e304fc",
   "metadata": {},
   "outputs": [],
   "source": [
    "assignments = []\n",
    "for index, row in df_1.iterrows():\n",
    "    geometry = geocode(f\"{row['Location']}\", out_sr=3857)[0][\"location\"]\n",
    "    assignments.append(\n",
    "        workforce.Assignment(\n",
    "            project,\n",
    "            geometry=geometry,\n",
    "            location=row[\"Location\"],\n",
    "            description=row[\"Description\"],\n",
    "            priority=row[\"Priority\"],\n",
    "            work_order_id=row[\"Work Order Id\"],\n",
    "            assignment_type=\"Inspección de Grifo\",\n",
    "            status=\"assigned\",\n",
    "            worker= Felipe,\n",
    "            due_date=pd.to_datetime(row[\"Due Date\"])\n",
    "        )\n",
    "    )"
   ]
  },
  {
   "cell_type": "code",
   "execution_count": 43,
   "id": "178f7ef7",
   "metadata": {},
   "outputs": [
    {
     "data": {
      "text/plain": [
       "[<Assignment 13>, <Assignment 14>]"
      ]
     },
     "execution_count": 43,
     "metadata": {},
     "output_type": "execute_result"
    }
   ],
   "source": [
    "#Agregar asignaciones con el metodo batch_add\n",
    "project.assignments.batch_add(assignments)"
   ]
  },
  {
   "cell_type": "markdown",
   "id": "5fcda31c",
   "metadata": {},
   "source": [
    "# Zona 3"
   ]
  },
  {
   "cell_type": "code",
   "execution_count": 44,
   "id": "32e1ca1c",
   "metadata": {},
   "outputs": [
    {
     "data": {
      "text/html": [
       "<div>\n",
       "<style scoped>\n",
       "    .dataframe tbody tr th:only-of-type {\n",
       "        vertical-align: middle;\n",
       "    }\n",
       "\n",
       "    .dataframe tbody tr th {\n",
       "        vertical-align: top;\n",
       "    }\n",
       "\n",
       "    .dataframe thead th {\n",
       "        text-align: right;\n",
       "    }\n",
       "</style>\n",
       "<table border=\"1\" class=\"dataframe\">\n",
       "  <thead>\n",
       "    <tr style=\"text-align: right;\">\n",
       "      <th></th>\n",
       "      <th>1</th>\n",
       "      <th>Location</th>\n",
       "      <th>Description</th>\n",
       "      <th>Assigned</th>\n",
       "      <th>Priority</th>\n",
       "      <th>Work Order Id</th>\n",
       "      <th>Due Date</th>\n",
       "    </tr>\n",
       "  </thead>\n",
       "  <tbody>\n",
       "    <tr>\n",
       "      <th>0</th>\n",
       "      <td>2</td>\n",
       "      <td>Papudo 815, La Ligua</td>\n",
       "      <td>Zona 3: Lozapenco FC</td>\n",
       "      <td>andraes.smgo_fau</td>\n",
       "      <td>high</td>\n",
       "      <td>1</td>\n",
       "      <td>30/8/2021 22:43</td>\n",
       "    </tr>\n",
       "    <tr>\n",
       "      <th>1</th>\n",
       "      <td>7</td>\n",
       "      <td>Ignacio Carrera Pinto 830, La Ligua</td>\n",
       "      <td>Zona 3: Lozapenco FC</td>\n",
       "      <td>andraes.smgo_fau</td>\n",
       "      <td>low</td>\n",
       "      <td>6</td>\n",
       "      <td>4/9/2021 14:00</td>\n",
       "    </tr>\n",
       "  </tbody>\n",
       "</table>\n",
       "</div>"
      ],
      "text/plain": [
       "   1                             Location           Description  \\\n",
       "0  2                 Papudo 815, La Ligua  Zona 3: Lozapenco FC   \n",
       "1  7  Ignacio Carrera Pinto 830, La Ligua  Zona 3: Lozapenco FC   \n",
       "\n",
       "           Assigned Priority  Work Order Id         Due Date  \n",
       "0  andraes.smgo_fau     high              1  30/8/2021 22:43  \n",
       "1  andraes.smgo_fau      low              6   4/9/2021 14:00  "
      ]
     },
     "execution_count": 44,
     "metadata": {},
     "output_type": "execute_result"
    }
   ],
   "source": [
    "assignments_2 = f'C:/Users/jcord/OneDrive/Escritorio/XYGO/Scripts/asignaciones_zona_3.csv'\n",
    "df_2 = pd.read_csv(assignments_2, sep=\";\")\n",
    "df_2"
   ]
  },
  {
   "cell_type": "code",
   "execution_count": 45,
   "id": "0ccd095e",
   "metadata": {},
   "outputs": [],
   "source": [
    "assignments = []\n",
    "for index, row in df_2.iterrows():\n",
    "    geometry = geocode(f\"{row['Location']}\", out_sr=3857)[0][\"location\"]\n",
    "    assignments.append(\n",
    "        workforce.Assignment(\n",
    "            project,\n",
    "            geometry=geometry,\n",
    "            location=row[\"Location\"],\n",
    "            description=row[\"Description\"],\n",
    "            priority=row[\"Priority\"],\n",
    "            work_order_id=row[\"Work Order Id\"],\n",
    "            assignment_type=\"Inspección de Grifo\",\n",
    "            status=\"assigned\",\n",
    "            worker= Andres,\n",
    "            due_date=pd.to_datetime(row[\"Due Date\"])\n",
    "        )\n",
    "    )"
   ]
  },
  {
   "cell_type": "code",
   "execution_count": 46,
   "id": "7374a3a0",
   "metadata": {},
   "outputs": [
    {
     "data": {
      "text/plain": [
       "[<Assignment 15>, <Assignment 16>]"
      ]
     },
     "execution_count": 46,
     "metadata": {},
     "output_type": "execute_result"
    }
   ],
   "source": [
    "#Agregar asignaciones con el metodo batch_add\n",
    "project.assignments.batch_add(assignments)"
   ]
  },
  {
   "cell_type": "code",
   "execution_count": 31,
   "id": "634e13b9",
   "metadata": {},
   "outputs": [
    {
     "data": {
      "application/vnd.jupyter.widget-view+json": {
       "model_id": "54d98cd4cc9a416c9c14f18340ab1557",
       "version_major": 2,
       "version_minor": 0
      },
      "text/plain": [
       "MapView(layout=Layout(height='400px', width='100%'))"
      ]
     },
     "metadata": {},
     "output_type": "display_data"
    },
    {
     "data": {
      "text/html": [
       "<div class=\"map-static-img-preview-8db727b8-89ad-4213-a094-7dd22165443c\"><img src=\"\"></img></div>"
      ],
      "text/plain": [
       "<IPython.core.display.HTML object>"
      ]
     },
     "metadata": {},
     "output_type": "display_data"
    },
    {
     "data": {
      "text/html": [
       "<div class=\"map-html-embed-preview-8db727b8-89ad-4213-a094-7dd22165443c\"></div>"
      ],
      "text/plain": [
       "<IPython.core.display.HTML object>"
      ]
     },
     "metadata": {},
     "output_type": "display_data"
    }
   ],
   "source": [
    "webmap = gis.map(\"La Ligua\", zoomlevel=12)\n",
    "webmap.add_layer(project.assignments_layer)\n",
    "webmap"
   ]
  },
  {
   "cell_type": "code",
   "execution_count": null,
   "id": "72830c7f",
   "metadata": {},
   "outputs": [],
   "source": []
  }
 ],
 "metadata": {
  "kernelspec": {
   "display_name": "Python 3",
   "language": "python",
   "name": "python3"
  },
  "language_info": {
   "codemirror_mode": {
    "name": "ipython",
    "version": 3
   },
   "file_extension": ".py",
   "mimetype": "text/x-python",
   "name": "python",
   "nbconvert_exporter": "python",
   "pygments_lexer": "ipython3",
   "version": "3.8.5"
  }
 },
 "nbformat": 4,
 "nbformat_minor": 5
}
