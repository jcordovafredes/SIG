{
 "cells": [
  {
   "cell_type": "markdown",
   "id": "a07c3f3d",
   "metadata": {},
   "source": [
    "# Asignaciones de zona a partir de un solo CSV"
   ]
  },
  {
   "cell_type": "markdown",
   "id": "c4122ebd",
   "metadata": {},
   "source": [
    "Este codigo fue realizado en base a la documentación oficial de ESRI, sin embargo, algunos parámetros fueron ajustados por el usuario \n",
    "\n",
    "\n",
    "José Córdova-Fredes, Geógrafo de la Pontificia Universidad Católica de Chile.\n",
    "\n",
    "\n",
    "\n",
    "\n",
    "El objetivo de este Notebook es lograr las asignaciones masivas desde un solo CSV que contengan todo los datos de asignaciones; entonces dicho lo anterior, la asignaciones se haran desde las zonas  y no desde el usuario.\n",
    "\n",
    "\n",
    "En este caso especifico la dirección esta en el siguiente formato: \"Latitud y Longitud\", es decir, la geometria de la localización esta dada por un tipo de formato x e y.\n",
    "\n",
    "\n",
    "\n",
    "Para cualquier duda con gusto ayudare, favor comunicarse a jcordovafredes@outlook.com\n",
    "\n"
   ]
  },
  {
   "cell_type": "markdown",
   "id": "98d219ec",
   "metadata": {},
   "source": [
    "# Importar librerias"
   ]
  },
  {
   "cell_type": "markdown",
   "id": "3a2c826e",
   "metadata": {},
   "source": [
    "Se importan las librerias que sean necesarias para correr el script,por una cosa de orden se sugiere que vaya todo al principio"
   ]
  },
  {
   "cell_type": "code",
   "execution_count": 1,
   "id": "5de812df",
   "metadata": {},
   "outputs": [],
   "source": [
    "import datetime\n",
    "import json\n",
    "import arcgis\n",
    "from arcgis.gis import GIS\n",
    "from arcgis.geometry import Geometry\n",
    "from arcgis.apps import workforce"
   ]
  },
  {
   "cell_type": "markdown",
   "id": "46addbe1",
   "metadata": {},
   "source": [
    "# Conectando organización"
   ]
  },
  {
   "cell_type": "markdown",
   "id": "dfa0c74d",
   "metadata": {},
   "source": [
    "Es importante conectar el servidor (url) con el usuario respectivo del portal"
   ]
  },
  {
   "cell_type": "code",
   "execution_count": 39,
   "id": "d774005b",
   "metadata": {},
   "outputs": [
    {
     "name": "stdout",
     "output_type": "stream",
     "text": [
      "Enter password: ········\n"
     ]
    }
   ],
   "source": [
    "gis = GIS(\"https://fau-uchile.maps.arcgis.com/\", \"jicoardova_fau\")"
   ]
  },
  {
   "cell_type": "markdown",
   "id": "26a63993",
   "metadata": {},
   "source": [
    "# Workforce vacio"
   ]
  },
  {
   "cell_type": "markdown",
   "id": "1c62ec0b",
   "metadata": {},
   "source": [
    "Es importante y relevante empezar con un proyecto vacio, esto es de suma importancia, puesto que es posible que no funcione y arroje errores."
   ]
  },
  {
   "cell_type": "code",
   "execution_count": 40,
   "id": "3ea3201a",
   "metadata": {},
   "outputs": [
    {
     "data": {
      "text/plain": [
       "<Project La Ligua>"
      ]
     },
     "execution_count": 40,
     "metadata": {},
     "output_type": "execute_result"
    }
   ],
   "source": [
    "item = gis.content.get(\"ab2ac4e09a3e4fe8abff88eeeab7c3e8\")\n",
    "project = workforce.Project(item)\n",
    "project"
   ]
  },
  {
   "cell_type": "markdown",
   "id": "e437d6b2",
   "metadata": {},
   "source": [
    "# Se Agregan Trabajadores"
   ]
  },
  {
   "cell_type": "markdown",
   "id": "d5f45067",
   "metadata": {},
   "source": [
    "En este apartado es relevante crear un grupo exclusivo para trabajadores e incorporar a los usuarios \"trabajadores\""
   ]
  },
  {
   "cell_type": "code",
   "execution_count": 41,
   "id": "55a7fcd0",
   "metadata": {},
   "outputs": [
    {
     "data": {
      "text/html": [
       "<div class=\"9item_container\" style=\"height: auto; overflow: hidden; border: 1px solid #cfcfcf; border-radius: 2px; background: #f6fafa; line-height: 1.21429em; padding: 10px;\">\n",
       "                    <div class=\"item_left\" style=\"width: 210px; float: left;\">\n",
       "                       <a href='https://fau-uchile.maps.arcgis.com/home/group.html?id=5573ec020617466288bd149990d1ace0' target='_blank'>\n",
       "                        <img src='https://fau-uchile.maps.arcgis.com/home/images/group-no-image.png' class=\"itemThumbnail\">\n",
       "                       </a>\n",
       "                    </div>\n",
       "\n",
       "                    <div class=\"item_right\" style=\"float: none; width: auto; overflow: hidden;\">\n",
       "                        <a href='https://fau-uchile.maps.arcgis.com/home/group.html?id=5573ec020617466288bd149990d1ace0' target='_blank'><b>Trabajadores</b>\n",
       "                        </a>\n",
       "                        <br/>\n",
       "                        <br/><b>Summary</b>: Grupo de Trabajadores\n",
       "                        <br/><b>Description</b>: Control de prueba para controlar y organizar las cuadrillas de revisar para así optimizar el flujo de trabajo\n",
       "                        <br/><b>Owner</b>: jicoardova_fau\n",
       "                        <br/><b>Created</b>: August 03, 2021\n",
       "\n",
       "                    </div>\n",
       "                </div>\n",
       "                "
      ],
      "text/plain": [
       "<Group title:\"Trabajadores\" owner:jicoardova_fau>"
      ]
     },
     "execution_count": 41,
     "metadata": {},
     "output_type": "execute_result"
    }
   ],
   "source": [
    "trabajadores = gis.groups.get(\"5573ec020617466288bd149990d1ace0\")\n",
    "trabajadores"
   ]
  },
  {
   "cell_type": "code",
   "execution_count": 42,
   "id": "be26f656",
   "metadata": {},
   "outputs": [],
   "source": [
    "for username in trabajadores.get_members()[\"users\"]:\n",
    "    user = gis.users.get(username)\n",
    "    project.workers.add(\n",
    "        user_id=username,\n",
    "        name=user.fullName,\n",
    "        status=\"not_working\",\n",
    "        title=\"Trabajador de campo\"\n",
    "    )"
   ]
  },
  {
   "cell_type": "markdown",
   "id": "0568c223",
   "metadata": {},
   "source": [
    "# Se agregan los supervisores"
   ]
  },
  {
   "cell_type": "markdown",
   "id": "6ffe83de",
   "metadata": {},
   "source": [
    "En este apartado es relevante crear un grupo exclusivo para Supervisores y asi incorporarlos"
   ]
  },
  {
   "cell_type": "code",
   "execution_count": 43,
   "id": "6a5964e0",
   "metadata": {},
   "outputs": [
    {
     "data": {
      "text/html": [
       "<div class=\"9item_container\" style=\"height: auto; overflow: hidden; border: 1px solid #cfcfcf; border-radius: 2px; background: #f6fafa; line-height: 1.21429em; padding: 10px;\">\n",
       "                    <div class=\"item_left\" style=\"width: 210px; float: left;\">\n",
       "                       <a href='https://fau-uchile.maps.arcgis.com/home/group.html?id=be5f84c01c2d404ca78ec97ad5c17ee0' target='_blank'>\n",
       "                        <img src='data:image/png;base64,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' ' class=\"itemThumbnail\">\n",
       "                       </a>\n",
       "                    </div>\n",
       "\n",
       "                    <div class=\"item_right\" style=\"float: none; width: auto; overflow: hidden;\">\n",
       "                        <a href='https://fau-uchile.maps.arcgis.com/home/group.html?id=be5f84c01c2d404ca78ec97ad5c17ee0' target='_blank'><b>Supervisores</b>\n",
       "                        </a>\n",
       "                        <br/>\n",
       "                        <br/><b>Summary</b>: Grupo de Supervisores\n",
       "                        <br/><b>Description</b>: La función de los supervisores es poder controlar la acción de los trabajadores con la finalidad de que hagan bien su trabajo\n",
       "                        <br/><b>Owner</b>: jicoardova_fau\n",
       "                        <br/><b>Created</b>: August 03, 2021\n",
       "\n",
       "                    </div>\n",
       "                </div>\n",
       "                "
      ],
      "text/plain": [
       "<Group title:\"Supervisores\" owner:jicoardova_fau>"
      ]
     },
     "execution_count": 43,
     "metadata": {},
     "output_type": "execute_result"
    }
   ],
   "source": [
    "supervisores_grifos = gis.groups.get(\"be5f84c01c2d404ca78ec97ad5c17ee0\")\n",
    "supervisores_grifos"
   ]
  },
  {
   "cell_type": "code",
   "execution_count": 44,
   "id": "71b30e18",
   "metadata": {},
   "outputs": [],
   "source": [
    "for username in supervisores_grifos.get_members()[\"users\"]:\n",
    "    if username != \"jicoardova_fau\":\n",
    "        user = gis.users.get(username)\n",
    "        project.dispatchers.add(\n",
    "            user_id=username,\n",
    "            name=user.fullName\n",
    "        )"
   ]
  },
  {
   "cell_type": "markdown",
   "id": "ab160526",
   "metadata": {},
   "source": [
    "# Agregar integracion de explorer"
   ]
  },
  {
   "cell_type": "markdown",
   "id": "85ccc945",
   "metadata": {},
   "source": [
    "Básicamente se agrega un mapa con toda la información de capas llamese puntos, lineas y poligonos, esto es relevante para darle contexto a la futura asignación"
   ]
  },
  {
   "cell_type": "code",
   "execution_count": 45,
   "id": "fcb38319",
   "metadata": {},
   "outputs": [
    {
     "data": {
      "application/vnd.jupyter.widget-view+json": {
       "model_id": "4aa4574070554ba6a1eb1d8088aac6a3",
       "version_major": 2,
       "version_minor": 0
      },
      "text/plain": [
       "MapView(hide_mode_switch=True, layout=Layout(height='400px', width='100%'))"
      ]
     },
     "metadata": {},
     "output_type": "display_data"
    },
    {
     "data": {
      "text/html": [
       "<div class=\"map-static-img-preview-1e4f5c13-add3-4638-a80b-8313d18b3188\"><img src=\"\"></img></div>"
      ],
      "text/plain": [
       "<IPython.core.display.HTML object>"
      ]
     },
     "metadata": {},
     "output_type": "display_data"
    },
    {
     "data": {
      "text/html": [
       "<div class=\"map-html-embed-preview-1e4f5c13-add3-4638-a80b-8313d18b3188\"></div>"
      ],
      "text/plain": [
       "<IPython.core.display.HTML object>"
      ]
     },
     "metadata": {},
     "output_type": "display_data"
    }
   ],
   "source": [
    "from arcgis.apps import build_explorer_url\n",
    "from arcgis.mapping import WebMap\n",
    "\n",
    "webmap = WebMap(gis.content.get(\"cbcbc17fdbff4e3697300d585366b817\"))\n",
    "webmap.item.share(groups=[project.group])\n",
    "webmap"
   ]
  },
  {
   "cell_type": "code",
   "execution_count": 46,
   "id": "192457f9",
   "metadata": {},
   "outputs": [],
   "source": [
    "url = build_explorer_url(\n",
    "    webmap=webmap,\n",
    "    center=\"${assignment.latitude},${assignment.longitude}\",\n",
    "    url_type=\"App\",\n",
    "    scale=9000\n",
    ")"
   ]
  },
  {
   "cell_type": "code",
   "execution_count": 47,
   "id": "0f6d24de",
   "metadata": {},
   "outputs": [
    {
     "data": {
      "text/plain": [
       "<Integration default-explorer>"
      ]
     },
     "execution_count": 47,
     "metadata": {},
     "output_type": "execute_result"
    }
   ],
   "source": [
    "project.integrations.add(\"default-explorer\", \"Explorer At Assignment\", url)"
   ]
  },
  {
   "cell_type": "markdown",
   "id": "eef58a53",
   "metadata": {},
   "source": [
    "# Conectar y leer csv"
   ]
  },
  {
   "cell_type": "markdown",
   "id": "7dd0e045",
   "metadata": {},
   "source": [
    "Es importante que antes de cargar un csv, se instala e importe la libreria Pandas, esta importación puede ir al principio: en cosa de gusto no hay nada escrito"
   ]
  },
  {
   "cell_type": "code",
   "execution_count": 48,
   "id": "c3a55341",
   "metadata": {},
   "outputs": [],
   "source": [
    "import pandas as pd"
   ]
  },
  {
   "cell_type": "markdown",
   "id": "26cbe54d",
   "metadata": {},
   "source": [
    "En cuanto al como cargar un archivos csv, depende de cada configuración; en mi caso es relevante colocar la f antes de la dirección de la carpeta donde contiene el archivo csv y uso /.\n",
    "\n",
    "\n",
    "En esta parte hay que presta atención en las coordenadas, solo debe haber una coma y esta debe estar en el lugar adecuado."
   ]
  },
  {
   "cell_type": "code",
   "execution_count": 57,
   "id": "98f1f551",
   "metadata": {},
   "outputs": [
    {
     "data": {
      "text/html": [
       "<div>\n",
       "<style scoped>\n",
       "    .dataframe tbody tr th:only-of-type {\n",
       "        vertical-align: middle;\n",
       "    }\n",
       "\n",
       "    .dataframe tbody tr th {\n",
       "        vertical-align: top;\n",
       "    }\n",
       "\n",
       "    .dataframe thead th {\n",
       "        text-align: right;\n",
       "    }\n",
       "</style>\n",
       "<table border=\"1\" class=\"dataframe\">\n",
       "  <thead>\n",
       "    <tr style=\"text-align: right;\">\n",
       "      <th></th>\n",
       "      <th>OBJECTID</th>\n",
       "      <th>LON</th>\n",
       "      <th>LAT</th>\n",
       "      <th>ID_INSPECC</th>\n",
       "      <th>LOCALIDAD</th>\n",
       "      <th>Description</th>\n",
       "      <th>Assigned</th>\n",
       "      <th>Due Date</th>\n",
       "      <th>ANIO</th>\n",
       "      <th>ID_PERIODO</th>\n",
       "      <th>NOMBRE_PER</th>\n",
       "      <th>ID_SIGEC</th>\n",
       "      <th>UBICACION</th>\n",
       "      <th>UBICACION_</th>\n",
       "      <th>FREC_INSPE</th>\n",
       "      <th>ID_ZONA</th>\n",
       "      <th>NOMBRE_ZON</th>\n",
       "      <th>GlobalID</th>\n",
       "    </tr>\n",
       "  </thead>\n",
       "  <tbody>\n",
       "    <tr>\n",
       "      <th>0</th>\n",
       "      <td>1</td>\n",
       "      <td>289997,1297895</td>\n",
       "      <td>6407308,10134821</td>\n",
       "      <td>517693606</td>\n",
       "      <td>LA LIGUA</td>\n",
       "      <td>Zona 1: Colo Colo</td>\n",
       "      <td>andraes.smgo_fau</td>\n",
       "      <td>30/8/2021 00:00</td>\n",
       "      <td></td>\n",
       "      <td>1880</td>\n",
       "      <td></td>\n",
       "      <td>3660980</td>\n",
       "      <td>MATRIZ</td>\n",
       "      <td></td>\n",
       "      <td>ANUAL</td>\n",
       "      <td></td>\n",
       "      <td>SZQ</td>\n",
       "      <td>{B6C66A13-575D-4287-8BE9-8E6661207723}</td>\n",
       "    </tr>\n",
       "    <tr>\n",
       "      <th>1</th>\n",
       "      <td>2</td>\n",
       "      <td>285936,270039269</td>\n",
       "      <td>6407640,74213531</td>\n",
       "      <td>1740157</td>\n",
       "      <td>PLACILLA DE LA LIGUA</td>\n",
       "      <td>Zona 1: Colo Colo</td>\n",
       "      <td>andraes.smgo_fau</td>\n",
       "      <td>31/8/2021 00:00</td>\n",
       "      <td></td>\n",
       "      <td>11</td>\n",
       "      <td></td>\n",
       "      <td>3111619</td>\n",
       "      <td>VALVULA DE CORTA</td>\n",
       "      <td></td>\n",
       "      <td>ANUAL</td>\n",
       "      <td></td>\n",
       "      <td></td>\n",
       "      <td>{4AF31C08-62BB-4464-865C-421DD15216AA}</td>\n",
       "    </tr>\n",
       "    <tr>\n",
       "      <th>2</th>\n",
       "      <td>3</td>\n",
       "      <td>290082,579072391</td>\n",
       "      <td>6407579,94858063</td>\n",
       "      <td>1740610</td>\n",
       "      <td>LA LIGUA</td>\n",
       "      <td>Zona 1: Colo Colo</td>\n",
       "      <td>andraes.smgo_fau</td>\n",
       "      <td>1/9/2021 00:00</td>\n",
       "      <td></td>\n",
       "      <td>11</td>\n",
       "      <td></td>\n",
       "      <td>3111539</td>\n",
       "      <td>VALVULA DE CORTA</td>\n",
       "      <td></td>\n",
       "      <td>ANUAL</td>\n",
       "      <td></td>\n",
       "      <td></td>\n",
       "      <td>{0D2322C0-B8BF-4E13-AEA7-0DDDA0D5D506}</td>\n",
       "    </tr>\n",
       "    <tr>\n",
       "      <th>3</th>\n",
       "      <td>4</td>\n",
       "      <td>282361,973031008</td>\n",
       "      <td>6407836,38808715</td>\n",
       "      <td>555648402</td>\n",
       "      <td>PLACILLA DE LA LIGUA</td>\n",
       "      <td>Zona 1: Colo Colo</td>\n",
       "      <td>andraes.smgo_fau</td>\n",
       "      <td>2/9/2021 00:00</td>\n",
       "      <td></td>\n",
       "      <td>263</td>\n",
       "      <td>SIN INFORMACION</td>\n",
       "      <td>3671960</td>\n",
       "      <td>MATRIZ</td>\n",
       "      <td></td>\n",
       "      <td>ANUAL</td>\n",
       "      <td></td>\n",
       "      <td>SZQ</td>\n",
       "      <td>{0FB3AB4F-8D67-4576-A645-0E652BEDFC2A}</td>\n",
       "    </tr>\n",
       "    <tr>\n",
       "      <th>4</th>\n",
       "      <td>5</td>\n",
       "      <td>284688,680936409</td>\n",
       "      <td>6407518,0286102</td>\n",
       "      <td>781114000</td>\n",
       "      <td>PLACILLA DE LA LIGUA</td>\n",
       "      <td>Zona 1: Colo Colo</td>\n",
       "      <td>andraes.smgo_fau</td>\n",
       "      <td>3/9/2021 00:00</td>\n",
       "      <td></td>\n",
       "      <td>4025</td>\n",
       "      <td></td>\n",
       "      <td>3753220</td>\n",
       "      <td>MATRIZ</td>\n",
       "      <td></td>\n",
       "      <td>ANUAL</td>\n",
       "      <td></td>\n",
       "      <td></td>\n",
       "      <td>{A957D082-CB24-4D51-BB27-2CCEEE883F0B}</td>\n",
       "    </tr>\n",
       "    <tr>\n",
       "      <th>...</th>\n",
       "      <td>...</td>\n",
       "      <td>...</td>\n",
       "      <td>...</td>\n",
       "      <td>...</td>\n",
       "      <td>...</td>\n",
       "      <td>...</td>\n",
       "      <td>...</td>\n",
       "      <td>...</td>\n",
       "      <td>...</td>\n",
       "      <td>...</td>\n",
       "      <td>...</td>\n",
       "      <td>...</td>\n",
       "      <td>...</td>\n",
       "      <td>...</td>\n",
       "      <td>...</td>\n",
       "      <td>...</td>\n",
       "      <td>...</td>\n",
       "      <td>...</td>\n",
       "    </tr>\n",
       "    <tr>\n",
       "      <th>331</th>\n",
       "      <td>332</td>\n",
       "      <td>290245,980444421</td>\n",
       "      <td>6407015,60103074</td>\n",
       "      <td>522065824</td>\n",
       "      <td>LA LIGUA</td>\n",
       "      <td>Zona 3: Naval</td>\n",
       "      <td>INTERGEO_06</td>\n",
       "      <td>27/7/2022 00:00</td>\n",
       "      <td></td>\n",
       "      <td>361</td>\n",
       "      <td>IN-1579</td>\n",
       "      <td>3663624</td>\n",
       "      <td>VALVULA REGULADORA</td>\n",
       "      <td></td>\n",
       "      <td>ANUAL</td>\n",
       "      <td></td>\n",
       "      <td>SZQ</td>\n",
       "      <td>{78408394-1722-45AB-9F76-47556195CBED}</td>\n",
       "    </tr>\n",
       "    <tr>\n",
       "      <th>332</th>\n",
       "      <td>333</td>\n",
       "      <td>289501,933501462</td>\n",
       "      <td>6406741,84743954</td>\n",
       "      <td>457673408</td>\n",
       "      <td>LA LIGUA</td>\n",
       "      <td>Zona 3: Naval</td>\n",
       "      <td>INTERGEO_06</td>\n",
       "      <td>28/7/2022 00:00</td>\n",
       "      <td></td>\n",
       "      <td>8329</td>\n",
       "      <td>EXTAP_75086_41_13</td>\n",
       "      <td>3650660</td>\n",
       "      <td>MATRIZ</td>\n",
       "      <td></td>\n",
       "      <td>ANUAL</td>\n",
       "      <td></td>\n",
       "      <td>SZQ</td>\n",
       "      <td>{47225AC7-1813-4081-A775-D95DCDA3DDDD}</td>\n",
       "    </tr>\n",
       "    <tr>\n",
       "      <th>333</th>\n",
       "      <td>334</td>\n",
       "      <td>285842,035976273</td>\n",
       "      <td>6407542,76538621</td>\n",
       "      <td>332543024</td>\n",
       "      <td>PLACILLA DE LA LIGUA</td>\n",
       "      <td>Zona 3: Naval</td>\n",
       "      <td>INTERGEO_06</td>\n",
       "      <td>29/7/2022 00:00</td>\n",
       "      <td></td>\n",
       "      <td>19</td>\n",
       "      <td>174-11- OQ</td>\n",
       "      <td>3623622</td>\n",
       "      <td>MATRIZ</td>\n",
       "      <td></td>\n",
       "      <td>ANUAL</td>\n",
       "      <td></td>\n",
       "      <td>SZQ</td>\n",
       "      <td>{762A362C-F8A1-4D9B-8F78-D1A374A708FB}</td>\n",
       "    </tr>\n",
       "    <tr>\n",
       "      <th>334</th>\n",
       "      <td>335</td>\n",
       "      <td>285649,498862343</td>\n",
       "      <td>6407577,41379998</td>\n",
       "      <td>332543025</td>\n",
       "      <td>PLACILLA DE LA LIGUA</td>\n",
       "      <td>Zona 3: Naval</td>\n",
       "      <td>INTERGEO_06</td>\n",
       "      <td>30/7/2022 00:00</td>\n",
       "      <td></td>\n",
       "      <td>19</td>\n",
       "      <td>174-11- OQ</td>\n",
       "      <td>3623624</td>\n",
       "      <td>MATRIZ</td>\n",
       "      <td></td>\n",
       "      <td>ANUAL</td>\n",
       "      <td></td>\n",
       "      <td>SZQ</td>\n",
       "      <td>{EF4C37FD-63FE-4A16-9A77-4ACEDAB1A939}</td>\n",
       "    </tr>\n",
       "    <tr>\n",
       "      <th>335</th>\n",
       "      <td>336</td>\n",
       "      <td>285646,099873051</td>\n",
       "      <td>6407582,96285526</td>\n",
       "      <td>332543026</td>\n",
       "      <td>PLACILLA DE LA LIGUA</td>\n",
       "      <td>Zona 3: Naval</td>\n",
       "      <td>INTERGEO_06</td>\n",
       "      <td>31/7/2022 00:00</td>\n",
       "      <td></td>\n",
       "      <td>19</td>\n",
       "      <td>174-11- OQ</td>\n",
       "      <td>3623625</td>\n",
       "      <td>MATRIZ</td>\n",
       "      <td></td>\n",
       "      <td>ANUAL</td>\n",
       "      <td></td>\n",
       "      <td>SZQ</td>\n",
       "      <td>{83F5C3F6-EB1E-4C38-93EA-0CEC7B231327}</td>\n",
       "    </tr>\n",
       "  </tbody>\n",
       "</table>\n",
       "<p>336 rows × 18 columns</p>\n",
       "</div>"
      ],
      "text/plain": [
       "     OBJECTID               LON               LAT  ID_INSPECC  \\\n",
       "0           1    289997,1297895  6407308,10134821   517693606   \n",
       "1           2  285936,270039269  6407640,74213531     1740157   \n",
       "2           3  290082,579072391  6407579,94858063     1740610   \n",
       "3           4  282361,973031008  6407836,38808715   555648402   \n",
       "4           5  284688,680936409   6407518,0286102   781114000   \n",
       "..        ...               ...               ...         ...   \n",
       "331       332  290245,980444421  6407015,60103074   522065824   \n",
       "332       333  289501,933501462  6406741,84743954   457673408   \n",
       "333       334  285842,035976273  6407542,76538621   332543024   \n",
       "334       335  285649,498862343  6407577,41379998   332543025   \n",
       "335       336  285646,099873051  6407582,96285526   332543026   \n",
       "\n",
       "                LOCALIDAD        Description          Assigned  \\\n",
       "0                LA LIGUA  Zona 1: Colo Colo  andraes.smgo_fau   \n",
       "1    PLACILLA DE LA LIGUA  Zona 1: Colo Colo  andraes.smgo_fau   \n",
       "2                LA LIGUA  Zona 1: Colo Colo  andraes.smgo_fau   \n",
       "3    PLACILLA DE LA LIGUA  Zona 1: Colo Colo  andraes.smgo_fau   \n",
       "4    PLACILLA DE LA LIGUA  Zona 1: Colo Colo  andraes.smgo_fau   \n",
       "..                    ...                ...               ...   \n",
       "331              LA LIGUA      Zona 3: Naval       INTERGEO_06   \n",
       "332              LA LIGUA      Zona 3: Naval       INTERGEO_06   \n",
       "333  PLACILLA DE LA LIGUA      Zona 3: Naval       INTERGEO_06   \n",
       "334  PLACILLA DE LA LIGUA      Zona 3: Naval       INTERGEO_06   \n",
       "335  PLACILLA DE LA LIGUA      Zona 3: Naval       INTERGEO_06   \n",
       "\n",
       "            Due Date ANIO  ID_PERIODO         NOMBRE_PER  ID_SIGEC  \\\n",
       "0    30/8/2021 00:00             1880                      3660980   \n",
       "1    31/8/2021 00:00               11                      3111619   \n",
       "2     1/9/2021 00:00               11                      3111539   \n",
       "3     2/9/2021 00:00              263    SIN INFORMACION   3671960   \n",
       "4     3/9/2021 00:00             4025                      3753220   \n",
       "..               ...  ...         ...                ...       ...   \n",
       "331  27/7/2022 00:00              361            IN-1579   3663624   \n",
       "332  28/7/2022 00:00             8329  EXTAP_75086_41_13   3650660   \n",
       "333  29/7/2022 00:00               19         174-11- OQ   3623622   \n",
       "334  30/7/2022 00:00               19         174-11- OQ   3623624   \n",
       "335  31/7/2022 00:00               19         174-11- OQ   3623625   \n",
       "\n",
       "              UBICACION UBICACION_ FREC_INSPE ID_ZONA NOMBRE_ZON  \\\n",
       "0                MATRIZ                 ANUAL                SZQ   \n",
       "1      VALVULA DE CORTA                 ANUAL                      \n",
       "2      VALVULA DE CORTA                 ANUAL                      \n",
       "3                MATRIZ                 ANUAL                SZQ   \n",
       "4                MATRIZ                 ANUAL                      \n",
       "..                  ...        ...        ...     ...        ...   \n",
       "331  VALVULA REGULADORA                 ANUAL                SZQ   \n",
       "332              MATRIZ                 ANUAL                SZQ   \n",
       "333              MATRIZ                 ANUAL                SZQ   \n",
       "334              MATRIZ                 ANUAL                SZQ   \n",
       "335              MATRIZ                 ANUAL                SZQ   \n",
       "\n",
       "                                   GlobalID  \n",
       "0    {B6C66A13-575D-4287-8BE9-8E6661207723}  \n",
       "1    {4AF31C08-62BB-4464-865C-421DD15216AA}  \n",
       "2    {0D2322C0-B8BF-4E13-AEA7-0DDDA0D5D506}  \n",
       "3    {0FB3AB4F-8D67-4576-A645-0E652BEDFC2A}  \n",
       "4    {A957D082-CB24-4D51-BB27-2CCEEE883F0B}  \n",
       "..                                      ...  \n",
       "331  {78408394-1722-45AB-9F76-47556195CBED}  \n",
       "332  {47225AC7-1813-4081-A775-D95DCDA3DDDD}  \n",
       "333  {762A362C-F8A1-4D9B-8F78-D1A374A708FB}  \n",
       "334  {EF4C37FD-63FE-4A16-9A77-4ACEDAB1A939}  \n",
       "335  {83F5C3F6-EB1E-4C38-93EA-0CEC7B231327}  \n",
       "\n",
       "[336 rows x 18 columns]"
      ]
     },
     "execution_count": 57,
     "metadata": {},
     "output_type": "execute_result"
    }
   ],
   "source": [
    "assignments = f'C:/Users/jcord/OneDrive/Escritorio/XYGO/Scripts/geo.csv'\n",
    "df = pd.read_csv(assignments, sep=\";\")\n",
    "df"
   ]
  },
  {
   "cell_type": "markdown",
   "id": "f8c304c7",
   "metadata": {},
   "source": [
    "# Asignar a los trabajadores"
   ]
  },
  {
   "cell_type": "markdown",
   "id": "1026a937",
   "metadata": {},
   "source": [
    "Aca se busca crear una variable especifica con los nombres, que ya ingresemos anteriormente en el \"Grupo de Trabajadores\", este paso es relevante dado que le estamos diciendo mediante código que cierto usuarios tienen un ID especifico por ArcGIS(nombre de usuario)."
   ]
  },
  {
   "cell_type": "code",
   "execution_count": 50,
   "id": "a9e0ee34",
   "metadata": {},
   "outputs": [],
   "source": [
    "Andres = project.workers.get(user_id=\"andraes.smgo_fau\")\n",
    "Daniela = project.workers.get(user_id=\"INTERGEO_04\")\n",
    "Felipe = project.workers.get(user_id=\"INTERGEO_06\")"
   ]
  },
  {
   "cell_type": "markdown",
   "id": "150083d7",
   "metadata": {},
   "source": [
    "# Mapear la descripción para cada trabajador"
   ]
  },
  {
   "cell_type": "markdown",
   "id": "1813fe36",
   "metadata": {},
   "source": [
    "Esta parte es relevante porque le damos una descripción especifica, en este caso le decimos que queremos tener una asignación de descripción especifica, que este asociada a un usuario especifico. Si bien esto se indica en el csv, es relevante que en el código se espcifica, sin esto lamentablemente la asignación por zona seria imposible de realizar."
   ]
  },
  {
   "cell_type": "code",
   "execution_count": 51,
   "id": "7621f065",
   "metadata": {},
   "outputs": [],
   "source": [
    "description_to_worker ={\n",
    "    'Zona 1: Colo Colo': Andres,\n",
    "    'Zona 2: San Luis': Daniela,\n",
    "    'Zona 3: Naval': Felipe\n",
    "}"
   ]
  },
  {
   "cell_type": "markdown",
   "id": "5969a078",
   "metadata": {},
   "source": [
    "# Se crea la asignación"
   ]
  },
  {
   "cell_type": "markdown",
   "id": "b5b67b93",
   "metadata": {},
   "source": [
    "La asignación o asignaciones se crean, si bien es relevante hacerla en algún momento antes de las asignaciones puntuales, ya sea a zonas o usuarios, para este caso se creo las asignaciones en este momento, puede ir antes, no hay problema con eso, igual es importante que no exista una duplicidad de asignaciones."
   ]
  },
  {
   "cell_type": "code",
   "execution_count": 52,
   "id": "01f5b6f0",
   "metadata": {},
   "outputs": [],
   "source": [
    "assignment_types = project.assignment_types.add(name=\"Inspección de Grifo\")"
   ]
  },
  {
   "cell_type": "markdown",
   "id": "dfd693eb",
   "metadata": {},
   "source": [
    "# Crear una asignación para cada fila"
   ]
  },
  {
   "cell_type": "markdown",
   "id": "a765ac5e",
   "metadata": {},
   "source": [
    "1. Para cada asignación, primero codifique geográficamente la dirección para obtener la ubicación x, y (en este caso la ubicación esta determinada por longitud y latitud) en WGS84 Web Mercator de la asignación. \n",
    "\n",
    " Luego proporcione atributos adicionales"
   ]
  },
  {
   "cell_type": "markdown",
   "id": "99a0fc28",
   "metadata": {},
   "source": [
    "2. Finalmente, use el método batch_add para agregar múltiples asignaciones a la vez (esto es más rápido que usar el método add ya que la validación se realiza una vez para todas las asignaciones)"
   ]
  },
  {
   "cell_type": "code",
   "execution_count": 53,
   "id": "84737950",
   "metadata": {},
   "outputs": [],
   "source": [
    "from arcgis.geocoding import geocode\n",
    "from datetime import datetime"
   ]
  },
  {
   "cell_type": "markdown",
   "id": "d6c07b3e",
   "metadata": {},
   "source": [
    "### 1. Asignación para todas las zonas"
   ]
  },
  {
   "cell_type": "markdown",
   "id": "14fc5c59",
   "metadata": {},
   "source": [
    "Aca se realiza las asignaciones para cada zonas y con los parametros que se definen en el csv"
   ]
  },
  {
   "cell_type": "code",
   "execution_count": 66,
   "id": "9b0b9a7f",
   "metadata": {},
   "outputs": [],
   "source": [
    "assignments = []\n",
    "for index, row in df.iterrows():\n",
    "    geometry = {\n",
    "        \"x\": row[\"LON\"].replace(\",\", \".\"),\n",
    "        \"y\": row[\"LAT\"].replace(\",\", \".\"),\n",
    "        \"spatialReference\": {\n",
    "            \"wkid\": 32719,\n",
    "            \"latestWkid\": 32719\n",
    "        }\n",
    "    }\n",
    "    assignments.append(\n",
    "        workforce.Assignment(\n",
    "            project,\n",
    "            geometry=geometry,\n",
    "            location=row[\"LOCALIDAD\"],\n",
    "            description=row[\"Description\"],\n",
    "            priority=1,\n",
    "            assignment_type=\"Inspección de Grifo\",\n",
    "            #Cambiar el estado a asignado\n",
    "            status=\"assigned\",\n",
    "            worker=description_to_worker[row[\"Description\"].strip()],\n",
    "            due_date=pd.to_datetime(row[\"Due Date\"])\n",
    "        )\n",
    "    )"
   ]
  },
  {
   "cell_type": "code",
   "execution_count": 67,
   "id": "5ccf9ee5",
   "metadata": {},
   "outputs": [
    {
     "data": {
      "text/plain": [
       "[<Assignment 337>,\n",
       " <Assignment 338>,\n",
       " <Assignment 339>,\n",
       " <Assignment 340>,\n",
       " <Assignment 341>,\n",
       " <Assignment 342>,\n",
       " <Assignment 343>,\n",
       " <Assignment 344>,\n",
       " <Assignment 345>,\n",
       " <Assignment 346>,\n",
       " <Assignment 347>,\n",
       " <Assignment 348>,\n",
       " <Assignment 349>,\n",
       " <Assignment 350>,\n",
       " <Assignment 351>,\n",
       " <Assignment 352>,\n",
       " <Assignment 353>,\n",
       " <Assignment 354>,\n",
       " <Assignment 355>,\n",
       " <Assignment 356>,\n",
       " <Assignment 357>,\n",
       " <Assignment 358>,\n",
       " <Assignment 359>,\n",
       " <Assignment 360>,\n",
       " <Assignment 361>,\n",
       " <Assignment 362>,\n",
       " <Assignment 363>,\n",
       " <Assignment 364>,\n",
       " <Assignment 365>,\n",
       " <Assignment 366>,\n",
       " <Assignment 367>,\n",
       " <Assignment 368>,\n",
       " <Assignment 369>,\n",
       " <Assignment 370>,\n",
       " <Assignment 371>,\n",
       " <Assignment 372>,\n",
       " <Assignment 373>,\n",
       " <Assignment 374>,\n",
       " <Assignment 375>,\n",
       " <Assignment 376>,\n",
       " <Assignment 377>,\n",
       " <Assignment 378>,\n",
       " <Assignment 379>,\n",
       " <Assignment 380>,\n",
       " <Assignment 381>,\n",
       " <Assignment 382>,\n",
       " <Assignment 383>,\n",
       " <Assignment 384>,\n",
       " <Assignment 385>,\n",
       " <Assignment 386>,\n",
       " <Assignment 387>,\n",
       " <Assignment 388>,\n",
       " <Assignment 389>,\n",
       " <Assignment 390>,\n",
       " <Assignment 391>,\n",
       " <Assignment 392>,\n",
       " <Assignment 393>,\n",
       " <Assignment 394>,\n",
       " <Assignment 395>,\n",
       " <Assignment 396>,\n",
       " <Assignment 397>,\n",
       " <Assignment 398>,\n",
       " <Assignment 399>,\n",
       " <Assignment 400>,\n",
       " <Assignment 401>,\n",
       " <Assignment 402>,\n",
       " <Assignment 403>,\n",
       " <Assignment 404>,\n",
       " <Assignment 405>,\n",
       " <Assignment 406>,\n",
       " <Assignment 407>,\n",
       " <Assignment 408>,\n",
       " <Assignment 409>,\n",
       " <Assignment 410>,\n",
       " <Assignment 411>,\n",
       " <Assignment 412>,\n",
       " <Assignment 413>,\n",
       " <Assignment 414>,\n",
       " <Assignment 415>,\n",
       " <Assignment 416>,\n",
       " <Assignment 417>,\n",
       " <Assignment 418>,\n",
       " <Assignment 419>,\n",
       " <Assignment 420>,\n",
       " <Assignment 421>,\n",
       " <Assignment 422>,\n",
       " <Assignment 423>,\n",
       " <Assignment 424>,\n",
       " <Assignment 425>,\n",
       " <Assignment 426>,\n",
       " <Assignment 427>,\n",
       " <Assignment 428>,\n",
       " <Assignment 429>,\n",
       " <Assignment 430>,\n",
       " <Assignment 431>,\n",
       " <Assignment 432>,\n",
       " <Assignment 433>,\n",
       " <Assignment 434>,\n",
       " <Assignment 435>,\n",
       " <Assignment 436>,\n",
       " <Assignment 437>,\n",
       " <Assignment 438>,\n",
       " <Assignment 439>,\n",
       " <Assignment 440>,\n",
       " <Assignment 441>,\n",
       " <Assignment 442>,\n",
       " <Assignment 443>,\n",
       " <Assignment 444>,\n",
       " <Assignment 445>,\n",
       " <Assignment 446>,\n",
       " <Assignment 447>,\n",
       " <Assignment 448>,\n",
       " <Assignment 449>,\n",
       " <Assignment 450>,\n",
       " <Assignment 451>,\n",
       " <Assignment 452>,\n",
       " <Assignment 453>,\n",
       " <Assignment 454>,\n",
       " <Assignment 455>,\n",
       " <Assignment 456>,\n",
       " <Assignment 457>,\n",
       " <Assignment 458>,\n",
       " <Assignment 459>,\n",
       " <Assignment 460>,\n",
       " <Assignment 461>,\n",
       " <Assignment 462>,\n",
       " <Assignment 463>,\n",
       " <Assignment 464>,\n",
       " <Assignment 465>,\n",
       " <Assignment 466>,\n",
       " <Assignment 467>,\n",
       " <Assignment 468>,\n",
       " <Assignment 469>,\n",
       " <Assignment 470>,\n",
       " <Assignment 471>,\n",
       " <Assignment 472>,\n",
       " <Assignment 473>,\n",
       " <Assignment 474>,\n",
       " <Assignment 475>,\n",
       " <Assignment 476>,\n",
       " <Assignment 477>,\n",
       " <Assignment 478>,\n",
       " <Assignment 479>,\n",
       " <Assignment 480>,\n",
       " <Assignment 481>,\n",
       " <Assignment 482>,\n",
       " <Assignment 483>,\n",
       " <Assignment 484>,\n",
       " <Assignment 485>,\n",
       " <Assignment 486>,\n",
       " <Assignment 487>,\n",
       " <Assignment 488>,\n",
       " <Assignment 489>,\n",
       " <Assignment 490>,\n",
       " <Assignment 491>,\n",
       " <Assignment 492>,\n",
       " <Assignment 493>,\n",
       " <Assignment 494>,\n",
       " <Assignment 495>,\n",
       " <Assignment 496>,\n",
       " <Assignment 497>,\n",
       " <Assignment 498>,\n",
       " <Assignment 499>,\n",
       " <Assignment 500>,\n",
       " <Assignment 501>,\n",
       " <Assignment 502>,\n",
       " <Assignment 503>,\n",
       " <Assignment 504>,\n",
       " <Assignment 505>,\n",
       " <Assignment 506>,\n",
       " <Assignment 507>,\n",
       " <Assignment 508>,\n",
       " <Assignment 509>,\n",
       " <Assignment 510>,\n",
       " <Assignment 511>,\n",
       " <Assignment 512>,\n",
       " <Assignment 513>,\n",
       " <Assignment 514>,\n",
       " <Assignment 515>,\n",
       " <Assignment 516>,\n",
       " <Assignment 517>,\n",
       " <Assignment 518>,\n",
       " <Assignment 519>,\n",
       " <Assignment 520>,\n",
       " <Assignment 521>,\n",
       " <Assignment 522>,\n",
       " <Assignment 523>,\n",
       " <Assignment 524>,\n",
       " <Assignment 525>,\n",
       " <Assignment 526>,\n",
       " <Assignment 527>,\n",
       " <Assignment 528>,\n",
       " <Assignment 529>,\n",
       " <Assignment 530>,\n",
       " <Assignment 531>,\n",
       " <Assignment 532>,\n",
       " <Assignment 533>,\n",
       " <Assignment 534>,\n",
       " <Assignment 535>,\n",
       " <Assignment 536>,\n",
       " <Assignment 537>,\n",
       " <Assignment 538>,\n",
       " <Assignment 539>,\n",
       " <Assignment 540>,\n",
       " <Assignment 541>,\n",
       " <Assignment 542>,\n",
       " <Assignment 543>,\n",
       " <Assignment 544>,\n",
       " <Assignment 545>,\n",
       " <Assignment 546>,\n",
       " <Assignment 547>,\n",
       " <Assignment 548>,\n",
       " <Assignment 549>,\n",
       " <Assignment 550>,\n",
       " <Assignment 551>,\n",
       " <Assignment 552>,\n",
       " <Assignment 553>,\n",
       " <Assignment 554>,\n",
       " <Assignment 555>,\n",
       " <Assignment 556>,\n",
       " <Assignment 557>,\n",
       " <Assignment 558>,\n",
       " <Assignment 559>,\n",
       " <Assignment 560>,\n",
       " <Assignment 561>,\n",
       " <Assignment 562>,\n",
       " <Assignment 563>,\n",
       " <Assignment 564>,\n",
       " <Assignment 565>,\n",
       " <Assignment 566>,\n",
       " <Assignment 567>,\n",
       " <Assignment 568>,\n",
       " <Assignment 569>,\n",
       " <Assignment 570>,\n",
       " <Assignment 571>,\n",
       " <Assignment 572>,\n",
       " <Assignment 573>,\n",
       " <Assignment 574>,\n",
       " <Assignment 575>,\n",
       " <Assignment 576>,\n",
       " <Assignment 577>,\n",
       " <Assignment 578>,\n",
       " <Assignment 579>,\n",
       " <Assignment 580>,\n",
       " <Assignment 581>,\n",
       " <Assignment 582>,\n",
       " <Assignment 583>,\n",
       " <Assignment 584>,\n",
       " <Assignment 585>,\n",
       " <Assignment 586>,\n",
       " <Assignment 587>,\n",
       " <Assignment 588>,\n",
       " <Assignment 589>,\n",
       " <Assignment 590>,\n",
       " <Assignment 591>,\n",
       " <Assignment 592>,\n",
       " <Assignment 593>,\n",
       " <Assignment 594>,\n",
       " <Assignment 595>,\n",
       " <Assignment 596>,\n",
       " <Assignment 597>,\n",
       " <Assignment 598>,\n",
       " <Assignment 599>,\n",
       " <Assignment 600>,\n",
       " <Assignment 601>,\n",
       " <Assignment 602>,\n",
       " <Assignment 603>,\n",
       " <Assignment 604>,\n",
       " <Assignment 605>,\n",
       " <Assignment 606>,\n",
       " <Assignment 607>,\n",
       " <Assignment 608>,\n",
       " <Assignment 609>,\n",
       " <Assignment 610>,\n",
       " <Assignment 611>,\n",
       " <Assignment 612>,\n",
       " <Assignment 613>,\n",
       " <Assignment 614>,\n",
       " <Assignment 615>,\n",
       " <Assignment 616>,\n",
       " <Assignment 617>,\n",
       " <Assignment 618>,\n",
       " <Assignment 619>,\n",
       " <Assignment 620>,\n",
       " <Assignment 621>,\n",
       " <Assignment 622>,\n",
       " <Assignment 623>,\n",
       " <Assignment 624>,\n",
       " <Assignment 625>,\n",
       " <Assignment 626>,\n",
       " <Assignment 627>,\n",
       " <Assignment 628>,\n",
       " <Assignment 629>,\n",
       " <Assignment 630>,\n",
       " <Assignment 631>,\n",
       " <Assignment 632>,\n",
       " <Assignment 633>,\n",
       " <Assignment 634>,\n",
       " <Assignment 635>,\n",
       " <Assignment 636>,\n",
       " <Assignment 637>,\n",
       " <Assignment 638>,\n",
       " <Assignment 639>,\n",
       " <Assignment 640>,\n",
       " <Assignment 641>,\n",
       " <Assignment 642>,\n",
       " <Assignment 643>,\n",
       " <Assignment 644>,\n",
       " <Assignment 645>,\n",
       " <Assignment 646>,\n",
       " <Assignment 647>,\n",
       " <Assignment 648>,\n",
       " <Assignment 649>,\n",
       " <Assignment 650>,\n",
       " <Assignment 651>,\n",
       " <Assignment 652>,\n",
       " <Assignment 653>,\n",
       " <Assignment 654>,\n",
       " <Assignment 655>,\n",
       " <Assignment 656>,\n",
       " <Assignment 657>,\n",
       " <Assignment 658>,\n",
       " <Assignment 659>,\n",
       " <Assignment 660>,\n",
       " <Assignment 661>,\n",
       " <Assignment 662>,\n",
       " <Assignment 663>,\n",
       " <Assignment 664>,\n",
       " <Assignment 665>,\n",
       " <Assignment 666>,\n",
       " <Assignment 667>,\n",
       " <Assignment 668>,\n",
       " <Assignment 669>,\n",
       " <Assignment 670>,\n",
       " <Assignment 671>,\n",
       " <Assignment 672>]"
      ]
     },
     "execution_count": 67,
     "metadata": {},
     "output_type": "execute_result"
    }
   ],
   "source": [
    "#Agregar asignaciones con el metodo batch_add\n",
    "project.assignments.batch_add(assignments)"
   ]
  },
  {
   "cell_type": "markdown",
   "id": "f380c81b",
   "metadata": {},
   "source": [
    "# Borrar asignaciones"
   ]
  },
  {
   "cell_type": "markdown",
   "id": "52ec5ed4",
   "metadata": {},
   "source": [
    "Solamente es posible borrar asignaciones que ya esten asignadas, valga la redundancia"
   ]
  },
  {
   "cell_type": "code",
   "execution_count": 60,
   "id": "8488a947",
   "metadata": {},
   "outputs": [],
   "source": [
    "project.assignments.batch_delete(assignments)"
   ]
  },
  {
   "cell_type": "markdown",
   "id": "3c771703",
   "metadata": {},
   "source": [
    "# Actualizar asignaciones"
   ]
  },
  {
   "cell_type": "markdown",
   "id": "8987e7eb",
   "metadata": {},
   "source": [
    "Para actualizar la asignaciones se ocupa el metodo batch update."
   ]
  },
  {
   "cell_type": "code",
   "execution_count": null,
   "id": "d14f89c1",
   "metadata": {},
   "outputs": [],
   "source": [
    "project.assignments.batch_update(assignments)"
   ]
  },
  {
   "cell_type": "markdown",
   "id": "d942e5c8",
   "metadata": {},
   "source": [
    "# Se visualizan la cantidad de asignaciones realizadas"
   ]
  },
  {
   "cell_type": "code",
   "execution_count": 61,
   "id": "b4abc323",
   "metadata": {},
   "outputs": [
    {
     "data": {
      "text/plain": [
       "[]"
      ]
     },
     "execution_count": 61,
     "metadata": {},
     "output_type": "execute_result"
    }
   ],
   "source": [
    "#Buscar todas las asignaciones\n",
    "assignments = project.assignments.search()\n",
    "assignments"
   ]
  },
  {
   "cell_type": "markdown",
   "id": "c28ec722",
   "metadata": {},
   "source": [
    "# Descripción de las asignaciones"
   ]
  },
  {
   "cell_type": "markdown",
   "id": "b5bea2cc",
   "metadata": {},
   "source": [
    "Este apartado brinda información de sintesis, en este caso para cada zona."
   ]
  },
  {
   "cell_type": "code",
   "execution_count": 68,
   "id": "075c1d63",
   "metadata": {},
   "outputs": [
    {
     "name": "stdout",
     "output_type": "stream",
     "text": [
      "Status: assigned\n",
      "Description: Zona 1: Colo Colo\n",
      "Priority: low\n",
      "Assigned To: Andrés San Martin (andraes.smgo_fau)\n",
      "Type: Inspección de Grifo\n",
      "Due Date: 2021-08-30 00:00:00+00:00\n"
     ]
    }
   ],
   "source": [
    "assignment = assignments[0]\n",
    "print(f\"Status: {assignment.status}\")\n",
    "print(f\"Description: {assignment.description}\")\n",
    "print(f\"Priority: {assignment.priority}\")\n",
    "print(f\"Assigned To: {assignment.worker}\")\n",
    "print(f\"Type: {assignment.assignment_type}\")\n",
    "print(f\"Due Date: {assignment.due_date}\")"
   ]
  },
  {
   "cell_type": "markdown",
   "id": "31afe9ea",
   "metadata": {},
   "source": [
    "# Verificar asignaciones en el mapa"
   ]
  },
  {
   "cell_type": "markdown",
   "id": "21feb869",
   "metadata": {},
   "source": [
    "Acá se presenta las asignaciones hecha anteriormente en un mapa, es importante indicar que este información en el mapa es lo mismo que se puede visualizar en el respectivo workforce."
   ]
  },
  {
   "cell_type": "code",
   "execution_count": 69,
   "id": "30f90a9d",
   "metadata": {},
   "outputs": [
    {
     "data": {
      "application/vnd.jupyter.widget-view+json": {
       "model_id": "eef2656a36284644a10135a2135cc26c",
       "version_major": 2,
       "version_minor": 0
      },
      "text/plain": [
       "MapView(layout=Layout(height='400px', width='100%'))"
      ]
     },
     "metadata": {},
     "output_type": "display_data"
    },
    {
     "data": {
      "text/html": [
       "<div class=\"map-static-img-preview-9f470c3f-bc05-4fcd-9b9c-4d8ac1f8fd30\"><img src=\"\"></img></div>"
      ],
      "text/plain": [
       "<IPython.core.display.HTML object>"
      ]
     },
     "metadata": {},
     "output_type": "display_data"
    },
    {
     "data": {
      "text/html": [
       "<div class=\"map-html-embed-preview-9f470c3f-bc05-4fcd-9b9c-4d8ac1f8fd30\"></div>"
      ],
      "text/plain": [
       "<IPython.core.display.HTML object>"
      ]
     },
     "metadata": {},
     "output_type": "display_data"
    }
   ],
   "source": [
    "webmap = gis.map(\"La Ligua\", zoomlevel=12)\n",
    "webmap.add_layer(project.assignments_layer)\n",
    "webmap"
   ]
  },
  {
   "cell_type": "code",
   "execution_count": null,
   "id": "513b460c",
   "metadata": {},
   "outputs": [],
   "source": []
  }
 ],
 "metadata": {
  "kernelspec": {
   "display_name": "Python 3",
   "language": "python",
   "name": "python3"
  },
  "language_info": {
   "codemirror_mode": {
    "name": "ipython",
    "version": 3
   },
   "file_extension": ".py",
   "mimetype": "text/x-python",
   "name": "python",
   "nbconvert_exporter": "python",
   "pygments_lexer": "ipython3",
   "version": "3.8.5"
  }
 },
 "nbformat": 4,
 "nbformat_minor": 5
}
