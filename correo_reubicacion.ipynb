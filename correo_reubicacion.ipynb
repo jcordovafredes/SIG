{
 "cells": [
  {
   "cell_type": "code",
   "execution_count": 1,
   "id": "283a1aff",
   "metadata": {},
   "outputs": [],
   "source": [
    "import os\n",
    "import json\n",
    "import arcgis\n",
    "import numpy as np\n",
    "import datetime\n",
    "import time\n",
    "import smtplib, ssl\n",
    "from email.message import EmailMessage\n",
    "from arcgis.geometry import Point\n",
    "from arcgis.geometry import Geometry\n",
    "from arcgis.gis import GIS"
   ]
  },
  {
   "cell_type": "markdown",
   "id": "4da2d827",
   "metadata": {},
   "source": [
    "### Acceder a la organización y los elementos en la capa"
   ]
  },
  {
   "cell_type": "code",
   "execution_count": 2,
   "id": "7ffbc5d5",
   "metadata": {},
   "outputs": [],
   "source": [
    "gis = GIS(\"URL/portal\", \"USER\", \"PASSWORD\", verify_cert=False)\n",
    "reubicacion_item = gis.content.get(\"d2f19956d2e948bebaa67919cba50e54\")\n",
    "reubicacion_layer = reubicacion_item.layers"
   ]
  },
  {
   "cell_type": "markdown",
   "id": "80f8b230",
   "metadata": {},
   "source": [
    "### Función de envío mail"
   ]
  },
  {
   "cell_type": "code",
   "execution_count": null,
   "id": "97bc40b1",
   "metadata": {},
   "outputs": [],
   "source": [
    "def send_mail(elemento, fecha, punto, tipo, asunto):\n",
    "    print(\"Preparando mail...\")\n",
    "    port = 465 \n",
    "    sender_email = \"esvalmarkupnotification@gmail.com\" #correo origen\n",
    "    receiver_email = [\"jcordovafredes@outlook.com\"] #correo destinatario\n",
    "    smtp_server = \"smtp.gmail.com\"\n",
    "    message = \"\"\"\n",
    "    Estimad@,\n",
    "    <br>\n",
    "    <br>\n",
    "    Con fecha {date}; se ha Aceptado la {operation_type} de un elemento tipo {element}.\n",
    "    <br>\n",
    "    <br>\n",
    "    Puede dirigirse al mapa haciendo click en el link: <a href= URL del MAPA>Mapa</a>\n",
    "    <br>\n",
    "    <br>\n",
    "    Este correo es generado automáticamente, no responder.\"\"\"\n",
    "    \n",
    "    msg = EmailMessage()\n",
    "    msg.set_content(message.format(element=elemento, date=fecha, point=punto, operation_type=tipo), \"html\")\n",
    "    msg['Subject'] = '{subject} de elemento aceptada'.format(subject=asunto)\n",
    "    msg['From'] = sender_email\n",
    "    msg['To'] = receiver_email\n",
    "    password = \"tvt.2021\"\n",
    "    context = ssl.create_default_context()\n",
    "\n",
    "    with smtplib.SMTP_SSL(smtp_server, port, context=context) as server:\n",
    "        server.login(sender_email, password)   \n",
    "        server.send_message(msg)\n",
    "        server.quit()"
   ]
  },
  {
   "cell_type": "markdown",
   "id": "69588035",
   "metadata": {},
   "source": [
    "### Startup"
   ]
  },
  {
   "cell_type": "code",
   "execution_count": 5,
   "id": "d2d0b8ce",
   "metadata": {},
   "outputs": [],
   "source": [
    "element_layer_old = reubicacion_layer[0].query(as_df=True)\n",
    "element_layer_new = reubicacion_layer[0].query(as_df=True)"
   ]
  },
  {
   "cell_type": "markdown",
   "id": "7d0b6fc8",
   "metadata": {},
   "source": [
    "### Loop"
   ]
  },
  {
   "cell_type": "code",
   "execution_count": null,
   "id": "c6e47e87",
   "metadata": {},
   "outputs": [],
   "source": [
    "while 1:\n",
    "    for index, row in element_layer_old.iterrows():\n",
    "        index_new_array = np.where(element_layer_new[\"ID_REGISTRO\"]==row[\"ID_REGISTRO\"])[0][0]\n",
    "        if element_layer_new.iloc[index_new_array].ESTADO_REUBICACION != row[\"ESTADO_REUBICACION\"] and element_layer_new.iloc[index_new_array].ESTADO_REUBICACION == \"Aceptado\" and element_layer_new.iloc[index_new_array].TIPO_TEMATIZACION == \"FIN\":\n",
    "           # print(\"Se detectó un cambio en para el índice: \" + str(index_new_array))\n",
    "           # print(\"El elemento tiene los siguientes datos: \")\n",
    "           # print(element_layer_new.iloc[index_new_array])\n",
    "            element = element_layer_new.iloc[index_new_array].TIPO_ELEMENTO\n",
    "            fecha = str(datetime.datetime.now())[0:16]\n",
    "            point= element_layer_new.iloc[index_new_array].SHAPE\n",
    "            punto = str(point.x)+\",\"+str(point.y)+\",\"+str(point.spatialReference[\"wkid\"])\n",
    "            send_mail(element,fecha,punto, \"reubicación\", \"Reubicación\")\n",
    "        elif element_layer_new.iloc[index_new_array].ESTADO_REUBICACION != row[\"ESTADO_REUBICACION\"] and element_layer_new.iloc[index_new_array].ESTADO_REUBICACION == \"Aceptado\" and element_layer_new.iloc[index_new_array].TIPO_TEMATIZACION == \"CREAR\":\n",
    "           # print(\"Se detectó un cambio en para el índice: \" + str(index_new_array))\n",
    "           # print(\"El elemento tiene los siguientes datos: \")\n",
    "           # print(element_layer_new.iloc[index_new_array])\n",
    "            element = element_layer_new.iloc[index_new_array].TIPO_ELEMENTO\n",
    "            fecha = str(datetime.datetime.now())[0:16]\n",
    "            point= element_layer_new.iloc[index_new_array].SHAPE\n",
    "            punto = str(point.x)+\",\"+str(point.y)+\",\"+str(point.spatialReference[\"wkid\"])\n",
    "            send_mail(element,fecha,punto, \"creación\", \"Creación\")\n",
    "        elif element_layer_new.iloc[index_new_array].ESTADO_REUBICACION != row[\"ESTADO_REUBICACION\"] and element_layer_new.iloc[index_new_array].ESTADO_REUBICACION == \"Aceptado\" and element_layer_new.iloc[index_new_array].TIPO_TEMATIZACION == \"ELIMINAR\":\n",
    "           # print(\"Se detectó un cambio en para el índice: \" + str(index_new_array))\n",
    "           # print(\"El elemento tiene los siguientes datos: \")\n",
    "           # print(element_layer_new.iloc[index_new_array])\n",
    "            element = element_layer_new.iloc[index_new_array].TIPO_ELEMENTO\n",
    "            fecha = str(datetime.datetime.now())[0:16]\n",
    "            point= element_layer_new.iloc[index_new_array].SHAPE\n",
    "            punto = str(point.x)+\",\"+str(point.y)+\",\"+str(point.spatialReference[\"wkid\"])\n",
    "            send_mail(element,fecha,punto, \"eliminación\", \"Eliminación\")\n",
    "    element_layer_old = element_layer_new\n",
    "    time.sleep(1)    \n",
    "    gis = GIS(\"https://gistest.esval.cl/portal\", \"siteadmin\", \"tvt.2021\", verify_cert=False)\n",
    "    reubicacion_item = gis.content.get(\"d2f19956d2e948bebaa67919cba50e54\")\n",
    "    reubicacion_layer = reubicacion_item.layers\n",
    "    element_layer_new = reubicacion_layer[0].query(as_df=True)"
   ]
  },
  {
   "cell_type": "code",
   "execution_count": null,
   "id": "71f52fe1",
   "metadata": {},
   "outputs": [],
   "source": []
  }
 ],
 "metadata": {
  "kernelspec": {
   "display_name": "Python 3",
   "language": "python",
   "name": "python3"
  },
  "language_info": {
   "codemirror_mode": {
    "name": "ipython",
    "version": 3
   },
   "file_extension": ".py",
   "mimetype": "text/x-python",
   "name": "python",
   "nbconvert_exporter": "python",
   "pygments_lexer": "ipython3",
   "version": "3.8.5"
  }
 },
 "nbformat": 4,
 "nbformat_minor": 5
}
